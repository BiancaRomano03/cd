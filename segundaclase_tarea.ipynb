{
 "cells": [
  {
   "cell_type": "markdown",
   "id": "8a55c387-6e29-402f-9440-2799ae731dbc",
   "metadata": {},
   "source": [
    "ejercicios de vectores"
   ]
  },
  {
   "cell_type": "code",
   "execution_count": 20,
   "id": "aaa79fc9-8591-4196-b30d-4c2dfa76e46d",
   "metadata": {},
   "outputs": [
    {
     "name": "stdout",
     "output_type": "stream",
     "text": [
      "['economia', 'teoria_politica1', 'fundamentos_cp1', 'teoria_politica2', 'historia_contemporanea', 'filoymetodos', 'historia_latinoamericana', 'fundamentos_cp2', 'metodologia1']\n"
     ]
    }
   ],
   "source": [
    "#ejercicio A\n",
    "\n",
    "materias_cursadas= [\"economia\", \n",
    "                    \"teoria_politica1\", \n",
    "                    \"fundamentos_cp1\", \n",
    "                    \"teoria_politica2\", \n",
    "                    \"historia_contemporanea\", \n",
    "                    \"filoymetodos\", \n",
    "                    \"historia_latinoamericana\", \n",
    "                    \"fundamentos_cp2\", \n",
    "                    \"metodologia1\"] \n",
    "\n",
    "print (materias_cursadas) "
   ]
  },
  {
   "cell_type": "code",
   "execution_count": 12,
   "id": "474388c4-7800-4584-8dac-f5e3ccc0832e",
   "metadata": {},
   "outputs": [
    {
     "name": "stdout",
     "output_type": "stream",
     "text": [
      "ya cursé: economia\n",
      "ya cursé: teoria_politica1\n",
      "ya cursé: fundamentos_cp1\n",
      "ya cursé: teoria_politica2\n",
      "ya cursé: historia_contemporanea\n",
      "ya cursé: filoymetodos\n",
      "ya cursé: historia_latinoamericana\n",
      "ya cursé: fundamentos_cp2\n",
      "ya cursé: metodologia1\n"
     ]
    }
   ],
   "source": [
    "for materia in materias_cursadas:\n",
    "    print (\"ya cursé:\", materia)"
   ]
  },
  {
   "cell_type": "code",
   "execution_count": 18,
   "id": "9596de68-cd52-46fe-b778-9661220322aa",
   "metadata": {},
   "outputs": [
    {
     "name": "stdout",
     "output_type": "stream",
     "text": [
      "la suma de numeros es: 190\n"
     ]
    }
   ],
   "source": [
    "#ejercicio B \n",
    "\n",
    "numeros=[20,35,16,47,72] \n",
    "\n",
    "suma_numeros= sum(numeros)\n",
    "\n",
    "print(\"la suma de numeros es:\", suma_numeros)"
   ]
  },
  {
   "cell_type": "code",
   "execution_count": 19,
   "id": "6a93383f-ba14-440b-bd78-fa399fee402c",
   "metadata": {},
   "outputs": [
    {
     "name": "stdout",
     "output_type": "stream",
     "text": [
      "el numero maximo es: 976\n"
     ]
    }
   ],
   "source": [
    "#ejercicio C \n",
    "\n",
    "numeros=[19,55,78,2,0,100,976]\n",
    "\n",
    "numero_maximo= max(numeros)\n",
    "\n",
    "print(\"el numero maximo es:\", numero_maximo) "
   ]
  },
  {
   "cell_type": "code",
   "execution_count": 23,
   "id": "b71081b8-3b8f-4d60-b7fb-664bcaeede60",
   "metadata": {},
   "outputs": [
    {
     "name": "stdout",
     "output_type": "stream",
     "text": [
      "el promedio de la lista es: 33.42857142857143\n"
     ]
    }
   ],
   "source": [
    "#ejercicio D \n",
    "\n",
    "numeros=[22,78,40,12,39,11,32]\n",
    "\n",
    "suma_numeros=sum(numeros) \n",
    "\n",
    "cantidad_numeros=len(numeros)\n",
    "\n",
    "promedio_numeros=suma_numeros/cantidad_numeros\n",
    "\n",
    "print(\"el promedio de la lista es:\", promedio_numeros)"
   ]
  },
  {
   "cell_type": "markdown",
   "id": "0c4a8e88-a35e-4e07-a94f-a68eb066d2e7",
   "metadata": {},
   "source": [
    "ejercicios de diccionarios"
   ]
  },
  {
   "cell_type": "code",
   "execution_count": 33,
   "id": "191f784e-60be-4b03-aa26-97aea79aeef5",
   "metadata": {},
   "outputs": [
    {
     "name": "stdin",
     "output_type": "stream",
     "text": [
      "ingrese calificacion: 10\n"
     ]
    },
    {
     "name": "stdout",
     "output_type": "stream",
     "text": [
      "gaston\n"
     ]
    }
   ],
   "source": [
    "#ejercicio A\n",
    "\n",
    "estudiante=[\"tomas\", \"carolina\", \"adrian\", \"paula\", \"gaston\"]\n",
    "\n",
    "calificacion= [8, 7, 10, 5, 3] \n",
    "\n",
    "registro_estudiantes={\"tomas\":8,\n",
    "                      \"carolina\":7,\n",
    "                      \"adrian\":10,\n",
    "                      \"paula\":5,\n",
    "                      \"gaston\":3}\n",
    "estudiante=input(\"ingrese calificacion:\")\n",
    "if calificacion==8:\n",
    "    print (\"tomas\")\n",
    "elif calificacion==7:\n",
    "    print(\"carolina\")\n",
    "elif calificacion==10:\n",
    "    print(\"adrian\")\n",
    "elif calificacion==5:\n",
    "    print(\"paula\")\n",
    "else:\n",
    "    print(\"gaston\")"
   ]
  },
  {
   "cell_type": "code",
   "execution_count": 36,
   "id": "a9d13f90-7546-4c01-9044-7c313d4c3442",
   "metadata": {},
   "outputs": [
    {
     "name": "stdout",
     "output_type": "stream",
     "text": [
      "{'nombre': 'bianca', 'edad': 20, 'carrera': 'ciencia politica', 'hobbies': ['escuchar musica', 'leer ficcion', 'pasear']}\n"
     ]
    }
   ],
   "source": [
    "#ejercicio B \n",
    "\n",
    "diccionario_bianca={\"nombre\":\"bianca\",\n",
    "                    \"edad\": 20,\n",
    "                    \"carrera\":\"ciencia politica\",\n",
    "                    \"hobbies\": [\"escuchar musica\", \"leer ficcion\", \"pasear\"]} \n",
    "\n",
    "print(diccionario_bianca)"
   ]
  },
  {
   "cell_type": "code",
   "execution_count": 39,
   "id": "1996026b-664a-47af-9351-e24b98cc4d00",
   "metadata": {},
   "outputs": [
    {
     "data": {
      "text/plain": [
       "2"
      ]
     },
     "execution_count": 39,
     "metadata": {},
     "output_type": "execute_result"
    }
   ],
   "source": [
    "#ejercicio C \n",
    "\n",
    "tipos_frutas={\"con_semilla\":[\"uvas\",\"mandarina\", \"naranja\", \"manzana\"], \n",
    "              \"sin_semilla\":[\"banana\", \"frutilla\",\"arandanos\"]}\n",
    "len(tipos_frutas)"
   ]
  }
 ],
 "metadata": {
  "kernelspec": {
   "display_name": "Python 3 (ipykernel)",
   "language": "python",
   "name": "python3"
  },
  "language_info": {
   "codemirror_mode": {
    "name": "ipython",
    "version": 3
   },
   "file_extension": ".py",
   "mimetype": "text/x-python",
   "name": "python",
   "nbconvert_exporter": "python",
   "pygments_lexer": "ipython3",
   "version": "3.11.5"
  }
 },
 "nbformat": 4,
 "nbformat_minor": 5
}

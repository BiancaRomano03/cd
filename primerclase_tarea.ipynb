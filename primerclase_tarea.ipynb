{
 "cells": [
  {
   "cell_type": "code",
   "execution_count": 38,
   "id": "ac5c59de-434e-4a10-a1c8-c13e59b2b31f",
   "metadata": {},
   "outputs": [
    {
     "name": "stdin",
     "output_type": "stream",
     "text": [
      "ingrese su nombre: bianca\n",
      "ingrese su edad: 20 \n"
     ]
    },
    {
     "name": "stdout",
     "output_type": "stream",
     "text": [
      "Hola bianca tenés 20  años\n"
     ]
    }
   ],
   "source": [
    "#variables y tipos de datos \n",
    "nombre=input(\"ingrese su nombre:\")\n",
    "edad=input(\"ingrese su edad:\")\n",
    "print (\"Hola\", nombre, \"tenés\", edad, \"años\") "
   ]
  },
  {
   "cell_type": "code",
   "execution_count": 62,
   "id": "45090272-1551-48b3-b268-4dc2b2634d0f",
   "metadata": {},
   "outputs": [
    {
     "name": "stdin",
     "output_type": "stream",
     "text": [
      "ingrese un numero: 0\n"
     ]
    },
    {
     "name": "stdout",
     "output_type": "stream",
     "text": [
      "0\n",
      "es positivo\n"
     ]
    }
   ],
   "source": [
    "#condicionales simples\n",
    "numero=int(numero)\n",
    "print(input(\"ingrese un numero:\"))\n",
    "if numero > 0:\n",
    "    print(\"es positivo\")\n",
    "else:\n",
    "    print(\"es negativo\")\n",
    "    "
   ]
  },
  {
   "cell_type": "code",
   "execution_count": 37,
   "id": "ea081cc0-695d-4de5-bf6f-fdd4166fc237",
   "metadata": {},
   "outputs": [
    {
     "name": "stdout",
     "output_type": "stream",
     "text": [
      "ingrese un numero\n"
     ]
    },
    {
     "name": "stdin",
     "output_type": "stream",
     "text": [
      "numero uno: 34\n",
      "numero dos: 2\n"
     ]
    },
    {
     "name": "stdout",
     "output_type": "stream",
     "text": [
      "34 es mayor\n"
     ]
    }
   ],
   "source": [
    "#condicionales con if y else \n",
    "print(\"ingrese un numero\")\n",
    "numero_1=int(input(\"numero uno:\"))\n",
    "numero_2=int(input(\"numero dos:\")) \n",
    "if numero_1 > numero_2:\n",
    "    print(numero_1, \"es mayor\")\n",
    "else:\n",
    "    print(numero_2, \"es mayor\")"
   ]
  },
  {
   "cell_type": "code",
   "execution_count": 59,
   "id": "47d3f7c5-f1d3-4925-877e-3daf49f3507d",
   "metadata": {},
   "outputs": [
    {
     "name": "stdin",
     "output_type": "stream",
     "text": [
      "ingrese su calificacion: 65\n"
     ]
    },
    {
     "name": "stdout",
     "output_type": "stream",
     "text": [
      "tu calificacion es D\n"
     ]
    }
   ],
   "source": [
    "#condicionales anidados\n",
    "calificacion= int(input(\"ingrese su calificacion:\"))\n",
    "if 90 <= calificacion <=100:\n",
    "    calificacion = \"A\" \n",
    "elif 80 <= calificacion <=89:\n",
    "    calificacion = \"B\"\n",
    "elif 70 <= calificacion <=79:\n",
    "    calificacion = \"C\"\n",
    "elif 60 <= calificacion <=69:\n",
    "    calificacion = \"D\"\n",
    "else:\n",
    "    calificacion = \"F\"\n",
    "print (\"tu calificacion es\", calificacion)\n"
   ]
  }
 ],
 "metadata": {
  "kernelspec": {
   "display_name": "Python 3 (ipykernel)",
   "language": "python",
   "name": "python3"
  },
  "language_info": {
   "codemirror_mode": {
    "name": "ipython",
    "version": 3
   },
   "file_extension": ".py",
   "mimetype": "text/x-python",
   "name": "python",
   "nbconvert_exporter": "python",
   "pygments_lexer": "ipython3",
   "version": "3.11.5"
  }
 },
 "nbformat": 4,
 "nbformat_minor": 5
}
